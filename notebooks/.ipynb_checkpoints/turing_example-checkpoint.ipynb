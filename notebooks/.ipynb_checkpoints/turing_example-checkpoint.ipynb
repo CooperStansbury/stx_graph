{
 "cells": [
  {
   "cell_type": "code",
   "execution_count": 1,
   "id": "8af9084f-074f-4fb8-b76a-4551e92d436b",
   "metadata": {},
   "outputs": [],
   "source": [
    "import pandas as pd\n",
    "import numpy as np\n",
    "\n",
    "import matplotlib.pyplot as plt\n",
    "import seaborn as sns"
   ]
  },
  {
   "cell_type": "code",
   "execution_count": 16,
   "id": "375db770-a1a8-4e1c-b7ad-c8057a8c3064",
   "metadata": {},
   "outputs": [
    {
     "name": "stdout",
     "output_type": "stream",
     "text": [
      "[[ 5. -6.  0. -0.]\n",
      " [ 6. -7.  0. -0.]\n",
      " [ 0. -0.  5. -6.]\n",
      " [ 0. -0.  6. -7.]]\n",
      "\n",
      "[[-0.5  0.   0.5  0. ]\n",
      " [ 0.  -4.5  0.   4.5]\n",
      " [ 0.5  0.  -0.5  0. ]\n",
      " [ 0.   4.5  0.  -4.5]]\n"
     ]
    }
   ],
   "source": [
    "cell = np.array([[5, -6], [6, -7]])\n",
    "\n",
    "# the identical cell dynamics\n",
    "F = np.kron(np.eye(len(cell)), cell)\n",
    "print(F)\n",
    "print()\n",
    "# the interaction dynamics\n",
    "L = np.array([[-0.5, 0, 0.5, 0], \n",
    "              [0, -4.5, 0, 4.5],\n",
    "              [0.5, 0, -0.5, 0],\n",
    "              [0, 4.5, 0, -4.5]])\n",
    "print(L)"
   ]
  },
  {
   "cell_type": "code",
   "execution_count": 25,
   "id": "71724d86-c793-4f0f-b40d-4321f9be29fb",
   "metadata": {},
   "outputs": [
    {
     "data": {
      "text/plain": [
       "array([-1.+0.j, -1.-0.j, -1.+0.j, -1.-0.j])"
      ]
     },
     "execution_count": 25,
     "metadata": {},
     "output_type": "execute_result"
    }
   ],
   "source": [
    "# the cell dynamics\n",
    "ev, ew = np.linalg.eig(F)\n",
    "ev.round(3)"
   ]
  },
  {
   "cell_type": "code",
   "execution_count": 24,
   "id": "46f28041-7e0c-4a76-96d8-aece174d7ad3",
   "metadata": {},
   "outputs": [
    {
     "data": {
      "text/plain": [
       "array([ 0., -1., -0., -9.])"
      ]
     },
     "execution_count": 24,
     "metadata": {},
     "output_type": "execute_result"
    }
   ],
   "source": [
    "# the cell dynamics\n",
    "ev, ew = np.linalg.eig(L)\n",
    "ev.round(3)"
   ]
  },
  {
   "cell_type": "code",
   "execution_count": null,
   "id": "12aaae80-2d14-4e86-b86f-b17a7da5f968",
   "metadata": {},
   "outputs": [],
   "source": []
  }
 ],
 "metadata": {
  "kernelspec": {
   "display_name": "Python 3 (ipykernel)",
   "language": "python",
   "name": "python3"
  },
  "language_info": {
   "codemirror_mode": {
    "name": "ipython",
    "version": 3
   },
   "file_extension": ".py",
   "mimetype": "text/x-python",
   "name": "python",
   "nbconvert_exporter": "python",
   "pygments_lexer": "ipython3",
   "version": "3.9.7"
  }
 },
 "nbformat": 4,
 "nbformat_minor": 5
}
