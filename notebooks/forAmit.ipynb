{
 "cells": [
  {
   "cell_type": "code",
   "execution_count": 21,
   "id": "318dfa3a-517e-4353-b48f-88cfc707b8ca",
   "metadata": {},
   "outputs": [],
   "source": [
    "import sys\n",
    "import os\n",
    "import itertools\n",
    "import pandas as pd"
   ]
  },
  {
   "cell_type": "code",
   "execution_count": 25,
   "id": "3dacb626-27aa-4940-bb62-94724b211e4b",
   "metadata": {},
   "outputs": [
    {
     "name": "stdout",
     "output_type": "stream",
     "text": [
      "HFD8 done\n",
      "ND done\n",
      "HFD14 done\n"
     ]
    }
   ],
   "source": [
    "dirpath = \"/nfs/turbo/umms-indikar/shared/projects/spatial_transcriptomics/graph_data/edge_lists/\"\n",
    "\n",
    "outdir = \"~/temp/\"\n",
    "\n",
    "col = ['node1', 'node2', 'key', 'M5_M5']\n",
    "\n",
    "for f in os.listdir(dirpath):\n",
    "    if 'harmonic' in f:\n",
    "        tmp = pd.read_csv(f\"{dirpath}{f}\", usecols=col)\n",
    "        key = tmp['key'].unique()[0]\n",
    "\n",
    "        tmp.to_csv(f\"{outdir}{key}_edges.csv\", index=False)        \n",
    "        \n",
    "        print(f\"{key} done\")\n"
   ]
  },
  {
   "cell_type": "code",
   "execution_count": null,
   "id": "c371e0a2-f3e1-4123-afcf-e65c59134fb1",
   "metadata": {},
   "outputs": [],
   "source": []
  }
 ],
 "metadata": {
  "kernelspec": {
   "display_name": "Python 3 (ipykernel)",
   "language": "python",
   "name": "python3"
  },
  "language_info": {
   "codemirror_mode": {
    "name": "ipython",
    "version": 3
   },
   "file_extension": ".py",
   "mimetype": "text/x-python",
   "name": "python",
   "nbconvert_exporter": "python",
   "pygments_lexer": "ipython3",
   "version": "3.9.7"
  }
 },
 "nbformat": 4,
 "nbformat_minor": 5
}
