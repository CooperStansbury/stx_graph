{
 "cells": [
  {
   "cell_type": "code",
   "execution_count": 1,
   "id": "e477396e-481d-4c0e-a06e-f22926310107",
   "metadata": {},
   "outputs": [],
   "source": [
    "import pandas as pd\n",
    "import numpy as np\n",
    "import scipy\n",
    "import sys\n",
    "import os\n",
    "import networkx as nx\n",
    "import matplotlib.pyplot as plt\n",
    "import seaborn as sns\n",
    "from importlib import reload\n",
    "\n",
    "# local imports \n",
    "import graph as gr"
   ]
  },
  {
   "cell_type": "code",
   "execution_count": 2,
   "id": "97a0c329-bcac-4b01-97fb-2b4a28195fce",
   "metadata": {},
   "outputs": [],
   "source": [
    "# load the data"
   ]
  },
  {
   "cell_type": "code",
   "execution_count": 3,
   "id": "ec2b65d7-688c-4b89-beca-6003e5a643b1",
   "metadata": {},
   "outputs": [
    {
     "name": "stdout",
     "output_type": "stream",
     "text": [
      "cdf.shape=(2036, 5)\n",
      "                  spotId key nodeId            x            y\n",
      "0  AAACAAGTATCTCCCA.1_ND  ND    1_1  1263.912793  1164.571691\n",
      "1  AAACAGCTTTCAGAAG.1_ND  ND    1_2   331.221482  1043.233630\n",
      "2  AAACAGGGTCTATATT.1_ND  ND    1_3   371.414081  1112.975138\n",
      "3  AAACATTTCCCGGATT.1_ND  ND    1_4  1213.938136  1356.563577\n",
      "4  AAACCCGAACGAAATC.1_ND  ND    1_5  1394.171280  1077.242752\n",
      "D.shape=(2071630, 3)\n",
      "E.shape=(2071630, 9)\n",
      "df.shape=(2071630, 10)\n",
      "  node1 node2           d key  innate_innate  innate_adaptive  innate_other   \n",
      "0   1_1   1_2  940.550906  ND       0.327893         0.095570      0.390540  \\\n",
      "1   1_1   1_3  893.988901  ND       0.348501         0.146438      0.365469   \n",
      "2   1_1   1_4  198.389391  ND       0.359207         0.121602      0.361784   \n",
      "3   1_1   1_5  156.823521  ND       0.221041         0.083095      0.428075   \n",
      "4   1_1   1_6  755.059941  ND       0.146987         0.028646      0.443532   \n",
      "\n",
      "   adaptive_adaptive  adaptive_other  other_other  \n",
      "0           0.057975        0.107001     0.608151  \n",
      "1           0.073454        0.105027     0.549456  \n",
      "2           0.066628        0.104720     0.541169  \n",
      "3           0.053136        0.109634     0.704317  \n",
      "4           0.023984        0.110622     0.747160  \n"
     ]
    }
   ],
   "source": [
    "key = \"ND\"\n",
    "\n",
    "dirpath = \"/nfs/turbo/umms-indikar/shared/projects/spatial_transcriptomics/graph_data/\"\n",
    "coordpath = f\"{dirpath}coordinates.pq\"\n",
    "distpath = f\"{dirpath}/distances/{key}_euclidean_distances.pq\"\n",
    "edgepath = f\"{dirpath}/edge_lists/{key}_harmonic_highlevel_edgelist.pq\"\n",
    "\n",
    "cdf = pd.read_parquet(coordpath)\n",
    "cdf = cdf[cdf['key'] == key].reset_index(drop=True)\n",
    "print(f\"{cdf.shape=}\")\n",
    "print(cdf.head())\n",
    "\n",
    "D = pd.read_parquet(distpath)\n",
    "D = D.drop(columns='key')\n",
    "print(f\"{D.shape=}\")\n",
    "# print(D.head())\n",
    "\n",
    "E = pd.read_parquet(edgepath)\n",
    "print(f\"{E.shape=}\")\n",
    "# print(E.head())\n",
    "\n",
    "# merge em!\n",
    "df = pd.merge(D, E, \n",
    "              how='left',\n",
    "              left_on=['node1', 'node2'],\n",
    "              right_on=['node1', 'node2'])\n",
    "\n",
    "print(f\"{df.shape=}\")\n",
    "print(df.head())"
   ]
  },
  {
   "cell_type": "markdown",
   "id": "40e39c03-bb1b-4fad-ba8e-ab4b7be4e503",
   "metadata": {},
   "source": [
    "# Build a nieghborhood"
   ]
  },
  {
   "cell_type": "code",
   "execution_count": 17,
   "id": "091b905e-2cb2-4497-b7bf-24f00571cf47",
   "metadata": {},
   "outputs": [
    {
     "name": "stdout",
     "output_type": "stream",
     "text": [
      "(2,)\n",
      "cdf.shape=(19, 7)\n",
      "df.shape=(171, 12)\n"
     ]
    }
   ],
   "source": [
    "reload(gr)\n",
    "\n",
    "n = 19\n",
    "nbrhd = gr.get_neighborhood(cdf, \n",
    "                            center=True, \n",
    "                            n=n, \n",
    "                            metric='minkowski')\n",
    "\n",
    "\n",
    "cdf = cdf[cdf['nodeId'].isin(nbrhd)].reset_index()\n",
    "df = df[(df['node1'].isin(nbrhd)) & (df['node2'].isin(nbrhd))].reset_index()\n",
    "\n",
    "print(f\"{cdf.shape=}\")\n",
    "print(f\"{df.shape=}\")"
   ]
  },
  {
   "cell_type": "code",
   "execution_count": 24,
   "id": "7e382156-ddbe-4d37-9af2-f254b6ac6b56",
   "metadata": {},
   "outputs": [
    {
     "name": "stdout",
     "output_type": "stream",
     "text": [
      "done\n"
     ]
    }
   ],
   "source": [
    "# make the positions\n",
    "pos = {}\n",
    "for idx, row in cdf.iterrows():\n",
    "    pos[row['nodeId']] = np.array(row[['x', 'y']])\n",
    "\n",
    "\n",
    "threshold = 65\n",
    "edges = df[df['d'] < threshold]\n",
    "\n",
    "# make the graph object\n",
    "G = nx.from_pandas_edgelist(edges, \n",
    "                            source='node1',\n",
    "                            target='node2',\n",
    "                            edge_attr=True)\n",
    "G.pos = pos\n",
    "\n",
    "print('done')"
   ]
  },
  {
   "cell_type": "code",
   "execution_count": null,
   "id": "8ef67f13-be2d-4ba0-a664-4c99494335bb",
   "metadata": {},
   "outputs": [
    {
     "data": {
      "text/plain": [
       "(854.27190066926, 951.35400683074, 1017.95790793716, 1102.4677893588398)"
      ]
     },
     "execution_count": 25,
     "metadata": {},
     "output_type": "execute_result"
    }
   ],
   "source": [
    "relationship = 'innate_innate'\n",
    "\n",
    "plt.rcParams['figure.dpi'] = 300\n",
    "plt.rcParams['figure.facecolor'] = \"none\"\n",
    "plt.rcParams['figure.figsize'] = 3, 3\n",
    "\n",
    "# plotting params\n",
    "lut = 5\n",
    "cmap = plt.cm.get_cmap('Reds', lut=lut)\n",
    "fig, ax = plt.subplots()\n",
    "\n",
    "# node coloring\n",
    "centrality = nx.eigenvector_centrality(G, weight=relationship, tol=0.001)\n",
    "colors = [centrality[n] for n in G.nodes()]\n",
    "\n",
    "# network plots\n",
    "nx.draw_networkx_nodes(G,\n",
    "                       pos=G.pos,\n",
    "                       node_size=300,\n",
    "                       # node_color=colors,\n",
    "                       node_color='lightgrey',\n",
    "                       # cmap=cmap,\n",
    "                       # alpha=0.75,\n",
    "                       edgecolors='k',\n",
    "                       linewidths=2,\n",
    "                       ax=ax)\n",
    "\n",
    "eweights = np.array([e[relationship] for node1, node2, e in G.edges(data=True)])\n",
    "\n",
    "nx.draw_networkx_edges(G,\n",
    "                       pos=G.pos,\n",
    "                       width=2,\n",
    "                       edge_color='w',\n",
    "                       # edge_color=eweights,\n",
    "                       edge_cmap=cmap, \n",
    "                       edge_vmin=0, \n",
    "                       edge_vmax=1,\n",
    "                       alpha=1,\n",
    "                       ax=ax)   \n",
    "\n",
    "ax.set_aspect('equal')\n",
    "# ax.invert_yaxis()\n",
    "ax.axis('off')\n",
    "\n"
   ]
  },
  {
   "cell_type": "code",
   "execution_count": 11,
   "id": "782f605e-9dd5-4a39-a8c4-cbc4b2c0ca9a",
   "metadata": {},
   "outputs": [
    {
     "data": {
      "image/png": "[encoded data removed]",
      "text/plain": [
       "<Figure size 900x900 with 2 Axes>"
      ]
     },
     "metadata": {},
     "output_type": "display_data"
    }
   ],
   "source": [
    "A = nx.adjacency_matrix(G, weight='innate_innate')\n",
    "A = A.todense()\n",
    "L = scipy.sparse.csgraph.laplacian(A, normed=True)\n",
    "\n",
    "fig, axs = plt.subplots(1, 2)\n",
    "axs = axs.ravel()\n",
    "\n",
    "axs[0].matshow(A)\n",
    "axs[1].matshow(L)\n",
    "\n",
    "axs[0].set_xticks([])\n",
    "axs[0].set_yticks([])\n",
    "axs[1].set_xticks([])\n",
    "axs[1].set_yticks([])\n",
    "\n",
    "plt.tight_layout()"
   ]
  },
  {
   "cell_type": "code",
   "execution_count": null,
   "id": "7a733255-19d4-41ef-a855-5d7dec958c95",
   "metadata": {},
   "outputs": [],
   "source": []
  }
 ],
 "metadata": {
  "kernelspec": {
   "display_name": "Python 3 (ipykernel)",
   "language": "python",
   "name": "python3"
  },
  "language_info": {
   "codemirror_mode": {
    "name": "ipython",
    "version": 3
   },
   "file_extension": ".py",
   "mimetype": "text/x-python",
   "name": "python",
   "nbconvert_exporter": "python",
   "pygments_lexer": "ipython3",
   "version": "3.9.7"
  }
 },
 "nbformat": 4,
 "nbformat_minor": 5
}
