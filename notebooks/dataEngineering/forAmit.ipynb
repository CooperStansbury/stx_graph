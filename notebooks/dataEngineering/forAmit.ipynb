{
 "cells": [
  {
   "cell_type": "code",
   "execution_count": 54,
   "id": "318dfa3a-517e-4353-b48f-88cfc707b8ca",
   "metadata": {},
   "outputs": [
    {
     "data": {
      "text/plain": [
       "<module 'graph' from '/home/cstansbu/git_repositories/stx_graph/notebooks/graph.py'>"
      ]
     },
     "execution_count": 54,
     "metadata": {},
     "output_type": "execute_result"
    }
   ],
   "source": [
    "import sys\n",
    "import os\n",
    "import itertools\n",
    "import pandas as pd\n",
    "import matplotlib.pyplot as plt\n",
    "from importlib import reload\n",
    "from sklearn.neighbors import NearestNeighbors\n",
    "\n",
    "import graph as gr\n",
    "reload(gr)"
   ]
  },
  {
   "cell_type": "code",
   "execution_count": 48,
   "id": "852691e6-bfad-44f3-955a-6594ab8d714e",
   "metadata": {},
   "outputs": [
    {
     "name": "stdout",
     "output_type": "stream",
     "text": [
      "done\n"
     ]
    }
   ],
   "source": [
    "reload(gr)\n",
    "fpath = \"/nfs/turbo/umms-indikar/shared/projects/spatial_transcriptomics/graph_data/coordinates.csv\"\n",
    "outdir = \"/home/cstansbu/temp/graph_data/\"\n",
    "\n",
    "keys = [\"ND\", \"HFD14\"]\n",
    "n = 500 # the number of points to select\n",
    "metric = 'minkowski'\n",
    "\n",
    "# load the coordinates\n",
    "coords = pd.read_csv(fpath)\n",
    "\n",
    "res = {}\n",
    "\n",
    "for key in keys:\n",
    "    k_crd = coords[coords['key'] == key].reset_index()\n",
    "\n",
    "    # get the node closest to the center\n",
    "    point = k_crd[['x', 'y']].mean(axis=0)\n",
    "    nodes = k_crd[['x', 'y']]\n",
    "\n",
    "    cix = gr.closest_node(point, nodes, metric=metric)\n",
    "    center  = k_crd.loc[cix, 'nodeId']\n",
    "    \n",
    "    # get the n points around the center node\n",
    "    nbrs = NearestNeighbors(n_neighbors=n,  \n",
    "                            metric=metric, \n",
    "                            algorithm='ball_tree').fit(nodes)\n",
    "    \n",
    "    distances, indices = nbrs.kneighbors(nodes)\n",
    "\n",
    "    neighborhood_idx = indices[cix, :]\n",
    "    neighborhood = k_crd[k_crd.index.isin(neighborhood_idx)]\n",
    "\n",
    "    res[key] = neighborhood\n",
    "\n",
    "    # save the data\n",
    "    fname = f\"{key}_coordinates.pq\"\n",
    "    neighborhood.to_parquet(f\"{outdir}{fname}\", index=False)\n",
    "\n",
    "print('done')"
   ]
  },
  {
   "cell_type": "code",
   "execution_count": 50,
   "id": "3dacb626-27aa-4940-bb62-94724b211e4b",
   "metadata": {},
   "outputs": [
    {
     "name": "stdout",
     "output_type": "stream",
     "text": [
      "done\n"
     ]
    }
   ],
   "source": [
    "dirpath = \"/nfs/turbo/umms-indikar/shared/projects/spatial_transcriptomics/graph_data/edge_lists/\"\n",
    "\n",
    "outdir = \"~/temp/\"\n",
    "\n",
    "col = ['node1', 'node2', 'key', 'M5_M5']\n",
    "\n",
    "for f in os.listdir(dirpath):\n",
    "    if 'harmonic' in f:\n",
    "        key = f.split(\"_\")[0]\n",
    "        if key in keys:\n",
    "            tmp = pd.read_csv(f\"{dirpath}{f}\", usecols=col)\n",
    "\n",
    "            # get the nieghborhood from above\n",
    "            nieghborhood = res[key]['nodeId'].to_list()\n",
    "            tmp = tmp[(tmp['node1'].isin(nieghborhood)) & (tmp['node2'].isin(nieghborhood))]\n",
    "        \n",
    "            tmp.to_parquet(f\"{outdir}{key}_edges.csv\", index=False)        \n",
    "\n",
    "print('done')"
   ]
  },
  {
   "cell_type": "code",
   "execution_count": null,
   "id": "e4061646-c8bc-4eba-b634-f9ed4b063073",
   "metadata": {},
   "outputs": [],
   "source": []
  }
 ],
 "metadata": {
  "kernelspec": {
   "display_name": "Python 3 (ipykernel)",
   "language": "python",
   "name": "python3"
  },
  "language_info": {
   "codemirror_mode": {
    "name": "ipython",
    "version": 3
   },
   "file_extension": ".py",
   "mimetype": "text/x-python",
   "name": "python",
   "nbconvert_exporter": "python",
   "pygments_lexer": "ipython3",
   "version": "3.9.7"
  }
 },
 "nbformat": 4,
 "nbformat_minor": 5
}
