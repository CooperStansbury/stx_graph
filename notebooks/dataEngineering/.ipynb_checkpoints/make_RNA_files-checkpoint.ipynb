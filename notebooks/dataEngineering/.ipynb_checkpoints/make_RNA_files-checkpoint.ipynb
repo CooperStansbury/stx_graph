{
 "cells": [
  {
   "cell_type": "code",
   "execution_count": 1,
   "id": "e22ec62d-139e-40b2-abb5-6f395572061f",
   "metadata": {},
   "outputs": [],
   "source": [
    "import pandas as pd\n",
    "import numpy as np\n",
    "import os\n",
    "import sys\n",
    "\n",
    "sys.path.append(\"../\")\n",
    "import utils as ut"
   ]
  },
  {
   "cell_type": "code",
   "execution_count": 2,
   "id": "e28d7726-5d9c-4fec-9620-4862d27066db",
   "metadata": {},
   "outputs": [
    {
     "name": "stdout",
     "output_type": "stream",
     "text": [
      "ND...\n",
      "Labels done.\n",
      "rf.shape=(1261, 31053)\n",
      "rf.shape=(1261, 17050)\n",
      "Reads done.\n",
      "Normed done.\n",
      "HFD8...\n",
      "Labels done.\n",
      "rf.shape=(6123, 31053)\n",
      "rf.shape=(6123, 18151)\n",
      "Reads done.\n",
      "Normed done.\n",
      "HFD14...\n",
      "Labels done.\n",
      "rf.shape=(6436, 31053)\n",
      "rf.shape=(6436, 17452)\n",
      "Reads done.\n",
      "Normed done.\n",
      "done\n"
     ]
    }
   ],
   "source": [
    "cardDir =  \"/nfs/turbo/umms-indikar/shared/projects/spatial_transcriptomics/data/CARDInputs/\"\n",
    "outdir = \"/nfs/turbo/umms-indikar/shared/projects/spatial_transcriptomics/graph_data/single_cell_expression/\"\n",
    "\n",
    "keys = ['ND', 'HFD8', 'HFD14']\n",
    "\n",
    "for i, key in enumerate(keys):\n",
    "    print(f\"{key}...\")\n",
    "    labelPath = f\"{cardDir}{key}_macrophage_clusters.csv\"\n",
    "    lf = pd.read_csv(labelPath)\n",
    "    lf = lf.rename(columns={'sampleInfo':'key', 'cellId':'barcode'})\n",
    "    lf['cellId'] = [f\"{i+1}_{x+1}\" for x in lf.index]\n",
    "\n",
    "    # save the label file as a parquet file\n",
    "    labelFile = f\"{outdir}{key}_labels.pq\"\n",
    "    lf.to_parquet(labelFile, index=False)\n",
    "    print(f'Labels done.')\n",
    "\n",
    "    # get a label map for the expression data\n",
    "    labelMap = pd.Series(lf['cellId'].values, index=lf['barcode']).to_dict()\n",
    "        \n",
    "    rnaPath = f\"{cardDir}{key}_macrophage_rna.csv\"\n",
    "    rf = pd.read_csv(rnaPath)\n",
    "    rf = rf.T\n",
    "    new_header = rf.iloc[0] \n",
    "    rf = rf[1:] \n",
    "    rf.columns = new_header \n",
    "\n",
    "    # remap the index \n",
    "    rf['index'] = rf.index.to_series().map(labelMap)\n",
    "    rf = rf.reset_index(drop=True)\n",
    "    rf = rf.set_index('index')\n",
    "    print(f\"{rf.shape=}\")\n",
    "\n",
    "    # drop genes with no reads\n",
    "    rf = rf.loc[:, rf.sum(axis=0) != 0]\n",
    "    print(f\"{rf.shape=}\")\n",
    "\n",
    "    # save the raw reads\n",
    "    rawFile = f\"{outdir}{key}_reads.pq\"\n",
    "    rf.to_parquet(rawFile)\n",
    "    print(f'Reads done.')\n",
    "\n",
    "    # normalize\n",
    "    rf = ut.normalize(rf, 1e6)\n",
    "    normFile = f\"{outdir}{key}_cpm.pq\"\n",
    "    rf.to_parquet(normFile)\n",
    "    print(f'Normed done.')\n",
    "\n",
    "\n",
    "print('done')"
   ]
  },
  {
   "cell_type": "code",
   "execution_count": 3,
   "id": "6b4a8c23-b344-4f66-a7f6-1d0ad62f01db",
   "metadata": {},
   "outputs": [
    {
     "ename": "SyntaxError",
     "evalue": "'break' outside loop (668683560.py, line 1)",
     "output_type": "error",
     "traceback": [
      "\u001b[0;36m  Cell \u001b[0;32mIn[3], line 1\u001b[0;36m\u001b[0m\n\u001b[0;31m    break\u001b[0m\n\u001b[0m    ^\u001b[0m\n\u001b[0;31mSyntaxError\u001b[0m\u001b[0;31m:\u001b[0m 'break' outside loop\n"
     ]
    }
   ],
   "source": [
    "break"
   ]
  },
  {
   "cell_type": "code",
   "execution_count": null,
   "id": "34294799-c74c-4d23-9005-81857a1c7e8e",
   "metadata": {},
   "outputs": [],
   "source": [
    "rf.head()"
   ]
  },
  {
   "cell_type": "code",
   "execution_count": null,
   "id": "fba16373-ae74-45bd-b43d-db8f4c66cc6e",
   "metadata": {},
   "outputs": [],
   "source": [
    "sums = rf.sum(axis=0)\n",
    "print(f\"{sums.shape=}\")"
   ]
  },
  {
   "cell_type": "code",
   "execution_count": null,
   "id": "e355906f-d578-47b7-9155-f9b1fad3d0a7",
   "metadata": {},
   "outputs": [],
   "source": []
  },
  {
   "cell_type": "code",
   "execution_count": null,
   "id": "f8812e7f-f5a3-4d64-97d4-5c656614c0d0",
   "metadata": {},
   "outputs": [],
   "source": []
  },
  {
   "cell_type": "code",
   "execution_count": null,
   "id": "56be19b3-e81e-44b1-9a87-28e0e4883c31",
   "metadata": {},
   "outputs": [],
   "source": []
  },
  {
   "cell_type": "code",
   "execution_count": null,
   "id": "e2af6760-ece8-434f-8891-c1d68ca3d656",
   "metadata": {},
   "outputs": [],
   "source": []
  },
  {
   "cell_type": "code",
   "execution_count": null,
   "id": "4d4b2b94-9f7a-44e4-b7c3-94750a8ac215",
   "metadata": {},
   "outputs": [],
   "source": [
    "rf.index.isin(labelMap.keys())"
   ]
  },
  {
   "cell_type": "code",
   "execution_count": null,
   "id": "50da6bc0-d750-455e-b801-f2ed02b5257c",
   "metadata": {},
   "outputs": [],
   "source": [
    "rf.index[:10]"
   ]
  },
  {
   "cell_type": "code",
   "execution_count": null,
   "id": "4e24f092-0881-4fe5-9a36-88e0b669e1c1",
   "metadata": {},
   "outputs": [],
   "source": [
    "labelMap['AAACGAACAGCAGTAG.1']"
   ]
  },
  {
   "cell_type": "code",
   "execution_count": null,
   "id": "59698781-e579-4258-8521-9bed99ba98ed",
   "metadata": {},
   "outputs": [],
   "source": [
    "rf.head()"
   ]
  },
  {
   "cell_type": "code",
   "execution_count": null,
   "id": "9cb11394-cdcc-4b8a-8a52-ae7276d22205",
   "metadata": {},
   "outputs": [],
   "source": [
    "labelMap['AAACGAACAGCAGTAG.1']"
   ]
  },
  {
   "cell_type": "code",
   "execution_count": null,
   "id": "34bbc784-ed77-415c-b988-9b07f0750ea2",
   "metadata": {},
   "outputs": [],
   "source": []
  },
  {
   "cell_type": "code",
   "execution_count": null,
   "id": "caed18d5-3bd5-4a4d-8bb1-898b84702868",
   "metadata": {},
   "outputs": [],
   "source": []
  },
  {
   "cell_type": "code",
   "execution_count": null,
   "id": "f8ff6778-22c0-4a51-a383-e40240db3532",
   "metadata": {},
   "outputs": [],
   "source": [
    "rf = rf.T\n",
    "new_header = rf.iloc[0] \n",
    "rf = rf[1:] \n",
    "rf.columns = new_header \n",
    "rf.index.names = ['cellId']"
   ]
  },
  {
   "cell_type": "code",
   "execution_count": null,
   "id": "61fbef88-baa1-42a1-8789-ddfd9b31e52d",
   "metadata": {},
   "outputs": [],
   "source": []
  }
 ],
 "metadata": {
  "kernelspec": {
   "display_name": "Python 3 (ipykernel)",
   "language": "python",
   "name": "python3"
  },
  "language_info": {
   "codemirror_mode": {
    "name": "ipython",
    "version": 3
   },
   "file_extension": ".py",
   "mimetype": "text/x-python",
   "name": "python",
   "nbconvert_exporter": "python",
   "pygments_lexer": "ipython3",
   "version": "3.9.7"
  }
 },
 "nbformat": 4,
 "nbformat_minor": 5
}
