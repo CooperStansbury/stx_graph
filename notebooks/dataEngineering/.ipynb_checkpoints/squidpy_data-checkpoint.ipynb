{
 "cells": [
  {
   "cell_type": "code",
   "execution_count": 1,
   "id": "c5513a84-132e-4217-8481-efdc616bc49d",
   "metadata": {},
   "outputs": [],
   "source": [
    "import pandas as pd\n",
    "import numpy as np\n",
    "import os\n",
    "import ast\n",
    "import sys\n",
    "\n",
    "import squidpy as sq"
   ]
  },
  {
   "cell_type": "markdown",
   "id": "507b262a-774c-4f24-892b-1320bfce71a0",
   "metadata": {},
   "source": [
    "# Visium"
   ]
  },
  {
   "cell_type": "code",
   "execution_count": 27,
   "id": "15a1e79e-c8c9-453b-a1a4-67c13797a710",
   "metadata": {},
   "outputs": [
    {
     "name": "stdout",
     "output_type": "stream",
     "text": [
      "V1_Breast_Cancer_Block_A_Section_1\n"
     ]
    },
    {
     "name": "stderr",
     "output_type": "stream",
     "text": [
      "/home/cstansbu/.local/lib/python3.9/site-packages/anndata/_core/anndata.py:1830: UserWarning: Variable names are not unique. To make them unique, call `.var_names_make_unique`.\n",
      "  utils.warn_names_duplicates(\"var\")\n"
     ]
    },
    {
     "name": "stdout",
     "output_type": "stream",
     "text": [
      "done\n"
     ]
    }
   ],
   "source": [
    "# visium datasets from 10x\n",
    "datasets = sq.datasets._10x_datasets.VisiumDatasets.__args__ \n",
    "\n",
    "base_dir = \"/nfs/turbo/umms-indikar/shared/projects/spatial_transcriptomics/public_data/\"\n",
    "output = \"/nfs/turbo/umms-indikar/shared/projects/spatial_transcriptomics/public_data/processed/\"\n",
    "\n",
    "for d in datasets:\n",
    "    print(d)\n",
    "\n",
    "    andata = sq.datasets.visium(d, \n",
    "                                include_hires_tiff=True, \n",
    "                                base_dir=base_dir)\n",
    "    \n",
    "    andata.var_names_make_unique()\n",
    "    df = andata.to_df()\n",
    "\n",
    "    # build an index file with original spot IDs\n",
    "    index = pd.DataFrame(df.index.to_list(), columns=['original_id'])\n",
    "    index['row_index'] = index.index\n",
    "\n",
    "    idfPath = f\"{output}{d}_index.pq.gz\"\n",
    "    index.to_parquet(idfPath, compression='gzip', index=False)\n",
    "\n",
    "    # drop the index\n",
    "    df = df.reset_index(drop=True)\n",
    "    dfPath = f\"{output}{d}_data.pq.gz\"\n",
    "    df.to_parquet(dfPath, compression='gzip', index=False)\n",
    "\n",
    "    # get the coordinates\n",
    "    cf = pd.DataFrame(andata.obsm['spatial'])\n",
    "    cdfPath = f\"{output}{d}_coords.pq.gz\"\n",
    "    cf.to_parquet(cdfPath, compression='gzip', index=False)\n",
    "    \n",
    "    print(f'{d} done')"
   ]
  },
  {
   "cell_type": "code",
   "execution_count": 13,
   "id": "6f046556-0ddb-465f-94db-5995059b2831",
   "metadata": {},
   "outputs": [
    {
     "name": "stdout",
     "output_type": "stream",
     "text": [
      "(3798, 36601)\n",
      "                    MIR1302-2HG  FAM138A  OR4F5  AL627309.1  AL627309.3   \n",
      "AAACAAGTATCTCCCA-1          0.0      0.0    0.0         0.0         0.0  \\\n",
      "AAACACCAATAACTGC-1          0.0      0.0    0.0         0.0         0.0   \n",
      "AAACAGAGCGACTCCT-1          0.0      0.0    0.0         0.0         0.0   \n",
      "AAACAGGGTCTATATT-1          0.0      0.0    0.0         0.0         0.0   \n",
      "AAACAGTGTTCCTGGG-1          0.0      0.0    0.0         0.0         0.0   \n",
      "\n",
      "                    AL627309.2  AL627309.5  AL627309.4  AP006222.2   \n",
      "AAACAAGTATCTCCCA-1         0.0         0.0         0.0         0.0  \\\n",
      "AAACACCAATAACTGC-1         0.0         0.0         0.0         0.0   \n",
      "AAACAGAGCGACTCCT-1         0.0         0.0         0.0         0.0   \n",
      "AAACAGGGTCTATATT-1         0.0         0.0         0.0         0.0   \n",
      "AAACAGTGTTCCTGGG-1         0.0         0.0         0.0         0.0   \n",
      "\n",
      "                    AL732372.1  ...  AC133551.1  AC136612.1  AC136616.1   \n",
      "AAACAAGTATCTCCCA-1         0.0  ...         0.0         0.0         0.0  \\\n",
      "AAACACCAATAACTGC-1         0.0  ...         0.0         0.0         0.0   \n",
      "AAACAGAGCGACTCCT-1         0.0  ...         0.0         0.0         0.0   \n",
      "AAACAGGGTCTATATT-1         0.0  ...         0.0         0.0         0.0   \n",
      "AAACAGTGTTCCTGGG-1         0.0  ...         0.0         0.0         0.0   \n",
      "\n",
      "                    AC136616.3  AC136616.2  AC141272.1  AC023491.2   \n",
      "AAACAAGTATCTCCCA-1         0.0         0.0         0.0         0.0  \\\n",
      "AAACACCAATAACTGC-1         0.0         0.0         0.0         0.0   \n",
      "AAACAGAGCGACTCCT-1         0.0         0.0         0.0         0.0   \n",
      "AAACAGGGTCTATATT-1         0.0         0.0         0.0         0.0   \n",
      "AAACAGTGTTCCTGGG-1         0.0         0.0         0.0         0.0   \n",
      "\n",
      "                    AC007325.1  AC007325.4  AC007325.2  \n",
      "AAACAAGTATCTCCCA-1         0.0         0.0         0.0  \n",
      "AAACACCAATAACTGC-1         0.0         0.0         0.0  \n",
      "AAACAGAGCGACTCCT-1         0.0         0.0         0.0  \n",
      "AAACAGGGTCTATATT-1         0.0         0.0         0.0  \n",
      "AAACAGTGTTCCTGGG-1         0.0         0.0         0.0  \n",
      "\n",
      "[5 rows x 36601 columns]\n"
     ]
    }
   ],
   "source": [
    "df = andata.to_df()\n",
    "print(df.shape)\n",
    "print(df.head())"
   ]
  },
  {
   "cell_type": "code",
   "execution_count": 19,
   "id": "a2a9aff2-79fb-4caa-963c-17c13886c2a3",
   "metadata": {},
   "outputs": [
    {
     "data": {
      "text/html": [
       "<div>\n",
       "<style scoped>\n",
       "    .dataframe tbody tr th:only-of-type {\n",
       "        vertical-align: middle;\n",
       "    }\n",
       "\n",
       "    .dataframe tbody tr th {\n",
       "        vertical-align: top;\n",
       "    }\n",
       "\n",
       "    .dataframe thead th {\n",
       "        text-align: right;\n",
       "    }\n",
       "</style>\n",
       "<table border=\"1\" class=\"dataframe\">\n",
       "  <thead>\n",
       "    <tr style=\"text-align: right;\">\n",
       "      <th></th>\n",
       "      <th>original_id</th>\n",
       "      <th>row_index</th>\n",
       "    </tr>\n",
       "  </thead>\n",
       "  <tbody>\n",
       "    <tr>\n",
       "      <th>0</th>\n",
       "      <td>AAACAAGTATCTCCCA-1</td>\n",
       "      <td>0</td>\n",
       "    </tr>\n",
       "    <tr>\n",
       "      <th>1</th>\n",
       "      <td>AAACACCAATAACTGC-1</td>\n",
       "      <td>1</td>\n",
       "    </tr>\n",
       "    <tr>\n",
       "      <th>2</th>\n",
       "      <td>AAACAGAGCGACTCCT-1</td>\n",
       "      <td>2</td>\n",
       "    </tr>\n",
       "    <tr>\n",
       "      <th>3</th>\n",
       "      <td>AAACAGGGTCTATATT-1</td>\n",
       "      <td>3</td>\n",
       "    </tr>\n",
       "    <tr>\n",
       "      <th>4</th>\n",
       "      <td>AAACAGTGTTCCTGGG-1</td>\n",
       "      <td>4</td>\n",
       "    </tr>\n",
       "  </tbody>\n",
       "</table>\n",
       "</div>"
      ],
      "text/plain": [
       "          original_id  row_index\n",
       "0  AAACAAGTATCTCCCA-1          0\n",
       "1  AAACACCAATAACTGC-1          1\n",
       "2  AAACAGAGCGACTCCT-1          2\n",
       "3  AAACAGGGTCTATATT-1          3\n",
       "4  AAACAGTGTTCCTGGG-1          4"
      ]
     },
     "execution_count": 19,
     "metadata": {},
     "output_type": "execute_result"
    }
   ],
   "source": [
    "index = pd.DataFrame(df.index.to_list(), columns=['original_id'])\n",
    "index['row_index'] = index.index\n",
    "index.head()"
   ]
  },
  {
   "cell_type": "code",
   "execution_count": 26,
   "id": "642c8df9-4dd6-447e-9b5f-270094f9d665",
   "metadata": {},
   "outputs": [
    {
     "data": {
      "text/html": [
       "<div>\n",
       "<style scoped>\n",
       "    .dataframe tbody tr th:only-of-type {\n",
       "        vertical-align: middle;\n",
       "    }\n",
       "\n",
       "    .dataframe tbody tr th {\n",
       "        vertical-align: top;\n",
       "    }\n",
       "\n",
       "    .dataframe thead th {\n",
       "        text-align: right;\n",
       "    }\n",
       "</style>\n",
       "<table border=\"1\" class=\"dataframe\">\n",
       "  <thead>\n",
       "    <tr style=\"text-align: right;\">\n",
       "      <th></th>\n",
       "      <th>0</th>\n",
       "      <th>1</th>\n",
       "    </tr>\n",
       "  </thead>\n",
       "  <tbody>\n",
       "    <tr>\n",
       "      <th>0</th>\n",
       "      <td>17428</td>\n",
       "      <td>15937</td>\n",
       "    </tr>\n",
       "    <tr>\n",
       "      <th>1</th>\n",
       "      <td>6092</td>\n",
       "      <td>18054</td>\n",
       "    </tr>\n",
       "    <tr>\n",
       "      <th>2</th>\n",
       "      <td>16351</td>\n",
       "      <td>7383</td>\n",
       "    </tr>\n",
       "    <tr>\n",
       "      <th>3</th>\n",
       "      <td>5278</td>\n",
       "      <td>15202</td>\n",
       "    </tr>\n",
       "    <tr>\n",
       "      <th>4</th>\n",
       "      <td>9363</td>\n",
       "      <td>21386</td>\n",
       "    </tr>\n",
       "  </tbody>\n",
       "</table>\n",
       "</div>"
      ],
      "text/plain": [
       "       0      1\n",
       "0  17428  15937\n",
       "1   6092  18054\n",
       "2  16351   7383\n",
       "3   5278  15202\n",
       "4   9363  21386"
      ]
     },
     "execution_count": 26,
     "metadata": {},
     "output_type": "execute_result"
    }
   ],
   "source": [
    "cf = pd.DataFrame(andata.obsm['spatial'])\n",
    "cf.head()"
   ]
  },
  {
   "cell_type": "code",
   "execution_count": 5,
   "id": "fc48a848-f61b-45e8-aaa4-ced10b393e36",
   "metadata": {},
   "outputs": [
    {
     "data": {
      "text/plain": [
       "['T',\n",
       " 'X',\n",
       " '_BACKED_ATTRS',\n",
       " '_H5_ALIASES',\n",
       " '_H5_ALIASES_NAMES',\n",
       " '_X',\n",
       " '__class__',\n",
       " '__contains__',\n",
       " '__delattr__',\n",
       " '__delitem__',\n",
       " '__dict__',\n",
       " '__dir__',\n",
       " '__doc__',\n",
       " '__eq__',\n",
       " '__format__',\n",
       " '__ge__',\n",
       " '__getattribute__',\n",
       " '__getitem__',\n",
       " '__gt__',\n",
       " '__hash__',\n",
       " '__init__',\n",
       " '__init_subclass__',\n",
       " '__le__',\n",
       " '__len__',\n",
       " '__lt__',\n",
       " '__module__',\n",
       " '__ne__',\n",
       " '__new__',\n",
       " '__reduce__',\n",
       " '__reduce_ex__',\n",
       " '__repr__',\n",
       " '__setattr__',\n",
       " '__setitem__',\n",
       " '__sizeof__',\n",
       " '__str__',\n",
       " '__subclasshook__',\n",
       " '__weakref__',\n",
       " '_adata_ref',\n",
       " '_check_dimensions',\n",
       " '_check_uniqueness',\n",
       " '_clean_up_old_format',\n",
       " '_gen_repr',\n",
       " '_get_X',\n",
       " '_get_and_delete_multicol_field',\n",
       " '_get_obs_array',\n",
       " '_get_var_array',\n",
       " '_has_X',\n",
       " '_init_as_actual',\n",
       " '_init_as_view',\n",
       " '_inplace_subset_obs',\n",
       " '_inplace_subset_var',\n",
       " '_is_view',\n",
       " '_layers',\n",
       " '_mutated_copy',\n",
       " '_n_obs',\n",
       " '_n_vars',\n",
       " '_normalize_indices',\n",
       " '_obs',\n",
       " '_obsm',\n",
       " '_obsp',\n",
       " '_oidx',\n",
       " '_prep_dim_index',\n",
       " '_raw',\n",
       " '_remove_unused_categories',\n",
       " '_sanitize',\n",
       " '_set_backed',\n",
       " '_set_dim_df',\n",
       " '_set_dim_index',\n",
       " '_uns',\n",
       " '_var',\n",
       " '_varm',\n",
       " '_varp',\n",
       " '_vidx',\n",
       " 'chunk_X',\n",
       " 'chunked_X',\n",
       " 'concatenate',\n",
       " 'copy',\n",
       " 'file',\n",
       " 'filename',\n",
       " 'is_view',\n",
       " 'isbacked',\n",
       " 'isview',\n",
       " 'layers',\n",
       " 'n_obs',\n",
       " 'n_vars',\n",
       " 'obs',\n",
       " 'obs_keys',\n",
       " 'obs_names',\n",
       " 'obs_names_make_unique',\n",
       " 'obs_vector',\n",
       " 'obsm',\n",
       " 'obsm_keys',\n",
       " 'obsp',\n",
       " 'raw',\n",
       " 'rename_categories',\n",
       " 'shape',\n",
       " 'strings_to_categoricals',\n",
       " 'to_df',\n",
       " 'to_memory',\n",
       " 'transpose',\n",
       " 'uns',\n",
       " 'uns_keys',\n",
       " 'var',\n",
       " 'var_keys',\n",
       " 'var_names',\n",
       " 'var_names_make_unique',\n",
       " 'var_vector',\n",
       " 'varm',\n",
       " 'varm_keys',\n",
       " 'varp',\n",
       " 'write',\n",
       " 'write_csvs',\n",
       " 'write_h5ad',\n",
       " 'write_loom',\n",
       " 'write_zarr']"
      ]
     },
     "execution_count": 5,
     "metadata": {},
     "output_type": "execute_result"
    }
   ],
   "source": [
    "dir(andata)"
   ]
  },
  {
   "cell_type": "code",
   "execution_count": 3,
   "id": "f9ce75e1-7009-4d36-b69d-f5f1d9144adf",
   "metadata": {},
   "outputs": [
    {
     "ename": "SyntaxError",
     "evalue": "'break' outside loop (668683560.py, line 1)",
     "output_type": "error",
     "traceback": [
      "\u001b[0;36m  Cell \u001b[0;32mIn[3], line 1\u001b[0;36m\u001b[0m\n\u001b[0;31m    break\u001b[0m\n\u001b[0m    ^\u001b[0m\n\u001b[0;31mSyntaxError\u001b[0m\u001b[0;31m:\u001b[0m 'break' outside loop\n"
     ]
    }
   ],
   "source": [
    "break"
   ]
  },
  {
   "cell_type": "code",
   "execution_count": null,
   "id": "2aa00af1-5f2c-45ee-9843-1502bd685958",
   "metadata": {},
   "outputs": [],
   "source": []
  },
  {
   "cell_type": "code",
   "execution_count": null,
   "id": "d57baa6a-e3ed-4292-84e9-a4278f535d77",
   "metadata": {},
   "outputs": [],
   "source": [
    "for f in sq.datasets:\n",
    "    print(f)"
   ]
  },
  {
   "cell_type": "code",
   "execution_count": null,
   "id": "fd33f036-4c00-49d8-8a91-e1986e7b7189",
   "metadata": {},
   "outputs": [],
   "source": [
    "dir(sq.datasets)"
   ]
  },
  {
   "cell_type": "code",
   "execution_count": null,
   "id": "90d74789-1cab-41e8-a991-07039b659320",
   "metadata": {},
   "outputs": [],
   "source": []
  }
 ],
 "metadata": {
  "kernelspec": {
   "display_name": "Python 3 (ipykernel)",
   "language": "python",
   "name": "python3"
  },
  "language_info": {
   "codemirror_mode": {
    "name": "ipython",
    "version": 3
   },
   "file_extension": ".py",
   "mimetype": "text/x-python",
   "name": "python",
   "nbconvert_exporter": "python",
   "pygments_lexer": "ipython3",
   "version": "3.9.7"
  }
 },
 "nbformat": 4,
 "nbformat_minor": 5
}
