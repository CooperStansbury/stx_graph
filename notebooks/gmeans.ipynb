{
 "cells": [
  {
   "cell_type": "code",
   "execution_count": 1,
   "id": "2e3fdbee-bccc-4636-bfcf-af13c4e39a65",
   "metadata": {},
   "outputs": [],
   "source": [
    "import numpy as np\n",
    "import pandas as pd\n",
    "import scipy"
   ]
  },
  {
   "cell_type": "code",
   "execution_count": 14,
   "id": "f713b54d-727d-41cb-b2c5-b83dbcb24e44",
   "metadata": {},
   "outputs": [
    {
     "name": "stdout",
     "output_type": "stream",
     "text": [
      "np.sum(A)=1.0\n",
      "np.sum(B)=1.0\n",
      "\n",
      "[[0.035 0.06  0.005]\n",
      " [0.245 0.42  0.035]\n",
      " [0.07  0.12  0.01 ]]\n"
     ]
    }
   ],
   "source": [
    "A = [0.1, 0.7, 0.2]\n",
    "B = [0.35, 0.6, 0.05]\n",
    "\n",
    "print(f\"{np.sum(A)=}\")\n",
    "print(f\"{np.sum(B)=}\")\n",
    "print()\n",
    "\n",
    "C = np.outer(A, B)\n",
    "print(C)\n"
   ]
  },
  {
   "cell_type": "code",
   "execution_count": 17,
   "id": "dcdcf76e-58dc-4a4d-9cf5-bd1d34ff0c4e",
   "metadata": {},
   "outputs": [
    {
     "data": {
      "text/plain": [
       "0.06"
      ]
     },
     "execution_count": 17,
     "metadata": {},
     "output_type": "execute_result"
    }
   ],
   "source": [
    "0.1 * 0.6"
   ]
  },
  {
   "cell_type": "code",
   "execution_count": 12,
   "id": "7223066b-3585-4863-9710-b7476aa5e44d",
   "metadata": {},
   "outputs": [
    {
     "data": {
      "text/plain": [
       "0.18708286933869708"
      ]
     },
     "execution_count": 12,
     "metadata": {},
     "output_type": "execute_result"
    }
   ],
   "source": [
    "scipy.stats.gmean([0.1, 0.35])"
   ]
  },
  {
   "cell_type": "code",
   "execution_count": 15,
   "id": "0c00948a-a1db-4534-9507-6a2cf377b483",
   "metadata": {},
   "outputs": [
    {
     "data": {
      "text/plain": [
       "array([[0.18708287, 0.24494897, 0.07071068],\n",
       "       [0.49497475, 0.64807407, 0.18708287],\n",
       "       [0.26457513, 0.34641016, 0.1       ]])"
      ]
     },
     "execution_count": 15,
     "metadata": {},
     "output_type": "execute_result"
    }
   ],
   "source": [
    "np.sqrt(C)"
   ]
  },
  {
   "cell_type": "code",
   "execution_count": null,
   "id": "4a46618f-0096-4720-94d8-5610cd1bef06",
   "metadata": {},
   "outputs": [],
   "source": []
  }
 ],
 "metadata": {
  "kernelspec": {
   "display_name": "Python 3 (ipykernel)",
   "language": "python",
   "name": "python3"
  },
  "language_info": {
   "codemirror_mode": {
    "name": "ipython",
    "version": 3
   },
   "file_extension": ".py",
   "mimetype": "text/x-python",
   "name": "python",
   "nbconvert_exporter": "python",
   "pygments_lexer": "ipython3",
   "version": "3.9.7"
  }
 },
 "nbformat": 4,
 "nbformat_minor": 5
}
