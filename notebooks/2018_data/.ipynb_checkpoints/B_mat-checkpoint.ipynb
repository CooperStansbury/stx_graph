{
 "cells": [
  {
   "cell_type": "code",
   "execution_count": null,
   "id": "500e8b0f-10f2-463b-b53c-8e32fd33f5f2",
   "metadata": {},
   "outputs": [],
   "source": [
    "import pandas as pd\n",
    "import numpy as np\n",
    "import sys\n",
    "import os"
   ]
  },
  {
   "cell_type": "code",
   "execution_count": null,
   "id": "b528e7a2-9783-462d-bafb-95351df64fa2",
   "metadata": {},
   "outputs": [],
   "source": [
    "\"\"\" Load the annotation file \"\"\"\n",
    "\n",
    "fpath = \"/nfs/turbo/umms-indikar/shared/projects/DGC/data/scenic/motif2tf/motifs-v10nr_clust-nr.hgnc-m0.001-o0.0.tbl\"\n",
    "\n",
    "ann = pd.read_table(fpath, low_memory=False)\n",
    "print(f\"{ann.shape=}\")\n",
    "ann['motifs'] = ann['source_name'] + \"__\" + ann['motif_name']\n",
    "\n",
    "print(f\"{ann['motifs'].nunique()=}\")\n",
    "print()\n",
    "print(f\"{ann['gene_name'].nunique()=}\")\n",
    "\n",
    "# prepare the data for merging \n",
    "ann = ann[['#motif_id', 'motif_name', 'motif_description', 'source_name', 'gene_name', 'motifs']]\n",
    "ann = ann.drop_duplicates() # this is just a check, doesn't do anything\n",
    "\n",
    "ann.head()"
   ]
  },
  {
   "cell_type": "code",
   "execution_count": null,
   "id": "2715cb42-f594-4f40-9b30-0fa9d93beff8",
   "metadata": {},
   "outputs": [],
   "source": [
    "\"\"\" Load the score file \"\"\"\n",
    "\n",
    "# fpath = \"/nfs/turbo/umms-indikar/shared/projects/DGC/data/scenic/motif_scores/hg38_10kbp_up_10kbp_down_full_tx_v10_clust.genes_vs_motifs.scores.feather\"\n",
    "fpath = \"/nfs/turbo/umms-indikar/shared/projects/DGC/data/scenic/motif_scores/hg38_500bp_up_100bp_down_full_tx_v10_clust.genes_vs_motifs.scores.feather\"\n",
    "\n",
    "df = pd.read_feather(fpath)\n",
    "print(f\"{df.shape=}\")\n",
    "genes = df.columns.to_list()[:-1]\n",
    "\n",
    "df.head()"
   ]
  },
  {
   "cell_type": "code",
   "execution_count": null,
   "id": "7f82e466-bd41-49d5-b380-54f15cb96260",
   "metadata": {},
   "outputs": [],
   "source": [
    "\"\"\" Create the merged object \"\"\"\n",
    "\n",
    "gf = pd.merge(ann[['gene_name', 'motifs']], df, \n",
    "              how='left',\n",
    "              left_on='motifs',\n",
    "              right_on='motifs')\n",
    "\n",
    "print(f\"{gf.shape=}\")"
   ]
  },
  {
   "cell_type": "code",
   "execution_count": null,
   "id": "76f4b111-2b07-4e7f-84f6-4e7cf1d38d09",
   "metadata": {},
   "outputs": [],
   "source": [
    "gx = gf.groupby('gene_name')[genes].mean()\n",
    "print(f\"{gx.shape=}\")\n",
    "gx = gx.fillna(0.00)\n",
    "gx = gx.T # for indika!\n",
    "\n",
    "gx.head()"
   ]
  },
  {
   "cell_type": "code",
   "execution_count": null,
   "id": "0dfee50d-e114-42d8-82c8-b6972b95f5ef",
   "metadata": {},
   "outputs": [],
   "source": [
    "outpath = \"/nfs/turbo/umms-indikar/shared/projects/DGC/data/processed_data/\"\n",
    "outname = f\"{outpath}500bp_up_100bp_down_B.csv\"\n",
    "gx.to_csv(outname, index=True)\n",
    "print('done')"
   ]
  },
  {
   "cell_type": "code",
   "execution_count": null,
   "id": "d3ceb0df-7ba4-4f29-8f3b-20b80852774f",
   "metadata": {},
   "outputs": [],
   "source": []
  },
  {
   "cell_type": "code",
   "execution_count": null,
   "id": "5310b693-c39e-4d80-a532-a1f85c2a1400",
   "metadata": {},
   "outputs": [],
   "source": []
  }
 ],
 "metadata": {
  "kernelspec": {
   "display_name": "Python 3 (ipykernel)",
   "language": "python",
   "name": "python3"
  },
  "language_info": {
   "codemirror_mode": {
    "name": "ipython",
    "version": 3
   },
   "file_extension": ".py",
   "mimetype": "text/x-python",
   "name": "python",
   "nbconvert_exporter": "python",
   "pygments_lexer": "ipython3",
   "version": "3.9.7"
  }
 },
 "nbformat": 4,
 "nbformat_minor": 5
}
